{
 "cells": [
  {
   "cell_type": "markdown",
   "metadata": {},
   "source": [
    "# CSE2530 Computational Intelligence\n",
    "## Assignment 1: Artificial Neural Networks"
   ]
  },
  {
   "cell_type": "markdown",
   "metadata": {},
   "source": [
    "<div style=\"background-color:#f1be3e\">\n",
    "\n",
    "_Fill in your group number **from Brightspace**, names, and student numbers._\n",
    "    \n",
    "| Group          | X       |\n",
    "|----------------|---------|\n",
    "| Pablo Hendriks | 5790069 |\n",
    "| Student B      | XXXXXXX |\n",
    "| Student C      | XXXXXXX |\n",
    "| Student D      | XXXXXXX |"
   ]
  },
  {
   "cell_type": "markdown",
   "metadata": {},
   "source": [
    "#### Imports"
   ]
  },
  {
   "cell_type": "code",
   "execution_count": null,
   "metadata": {},
   "outputs": [],
   "source": [
    "# You may only use numpy to implement your neural network\n",
    "# You are not allowed to use scikit-learn, other than for Section 1.6.\n",
    "# You are also not allowed to use Pytorch, Tensorflow, and similar machine learning frameworks.\n",
    "# You can make use of any other libraries for miscellaneous functions, e.g. to create the visual aids.\n",
    "\n",
    "# Put all of your imports in this code block\n",
    "import numpy as np"
   ]
  },
  {
   "cell_type": "markdown",
   "metadata": {},
   "source": [
    "#### Loading the data"
   ]
  },
  {
   "cell_type": "code",
   "execution_count": null,
   "metadata": {},
   "outputs": [],
   "source": [
    "features = np.genfromtxt(\"../data/features.txt\", delimiter=\",\")\n",
    "targets = np.genfromtxt(\"../data/targets.txt\", delimiter=\",\")\n",
    "unknown = np.genfromtxt(\"../data/unknown.txt\", delimiter=\",\")"
   ]
  },
  {
   "cell_type": "markdown",
   "metadata": {},
   "source": [
    "## 1 Questions\n",
    "### 1.2 Architecture\n",
    "#### Question 1:"
   ]
  },
  {
   "cell_type": "code",
   "execution_count": null,
   "metadata": {},
   "outputs": [],
   "source": [
    "# Put your code for Question 1 here"
   ]
  },
  {
   "cell_type": "markdown",
   "metadata": {},
   "source": [
    "<div style=\"background-color:#f1be3e\">\n",
    "\n",
    "_Put your code blocks above (if any) and write your answer here._"
   ]
  },
  {
   "cell_type": "markdown",
   "metadata": {},
   "source": [
    "#### Question 2"
   ]
  },
  {
   "cell_type": "markdown",
   "metadata": {},
   "source": [
    "<div style=\"background-color:#f1be3e\">\n",
    "\n",
    "_Write your answer here._"
   ]
  },
  {
   "cell_type": "markdown",
   "metadata": {},
   "source": [
    "#### Question 3"
   ]
  },
  {
   "cell_type": "markdown",
   "metadata": {},
   "source": [
    "<div style=\"background-color:#f1be3e\">\n",
    "\n",
    "_Write your answer here._"
   ]
  },
  {
   "cell_type": "markdown",
   "metadata": {},
   "source": [
    "#### Question 4"
   ]
  },
  {
   "cell_type": "markdown",
   "metadata": {},
   "source": [
    "<div style=\"background-color:#f1be3e\">\n",
    "\n",
    "_Write your answer here._"
   ]
  },
  {
   "cell_type": "markdown",
   "metadata": {},
   "source": [
    "#### Question 5"
   ]
  },
  {
   "cell_type": "markdown",
   "metadata": {},
   "source": [
    "<div style=\"background-color:#f1be3e\">\n",
    "\n",
    "_Write your answer here._"
   ]
  },
  {
   "cell_type": "markdown",
   "metadata": {},
   "source": [
    "#### Question 6"
   ]
  },
  {
   "cell_type": "markdown",
   "metadata": {},
   "source": [
    "<div style=\"background-color:#f1be3e\">\n",
    "\n",
    "_Write your answer here. You can include images using the syntax !.[title].(filepath), removing decimal points therein._"
   ]
  },
  {
   "cell_type": "markdown",
   "metadata": {},
   "source": [
    "### 1.3 Training"
   ]
  },
  {
   "cell_type": "markdown",
   "metadata": {},
   "source": [
    "When coding a neural network from scratch, it helps to think of a layer as an individual component that can be easily combined with other layers. To help you create a modular implementation of a neural network, we provide you with a template for the implementation along with some explanations.\n",
    "\n",
    "**Note that using the template below is not mandatory. You may choose to modify this template or implement your own version of the neural network altogether. If the latter, please remove our template from the notebook and ensure that it instead includes a complete, fully functional implementation of your own.**"
   ]
  },
  {
   "cell_type": "markdown",
   "metadata": {},
   "source": [
    "**Linear (fully connected) layer**\n",
    "\n",
    "A linear or fully connected layer maps the input data to an output by performing a linear transformation, where each input neuron is connected to every output neuron. The forward pass of a linear layer is computed as $y = wx + b$, where $w$ and $b$ are trainable parameters. The gradients of the loss with respect to $w$ and $b$ are defined using the chain rule:\n",
    "\n",
    "$$\\frac{\\partial \\mathcal{L}}{\\partial w}=\\frac{\\partial \\mathcal{L}}{\\partial y} \\cdot \\frac{\\partial y}{\\partial w}, \\quad \\frac{\\partial \\mathcal{L}}{\\partial b}=\\frac{\\partial \\mathcal{L}}{\\partial y} \\cdot \\frac{\\partial y}{\\partial b}, $$\n",
    "\n",
    "where $\\frac{\\partial \\mathcal{L}}{\\partial y}$ is the upstream gradient i.e., the gradient flowing from deeper layers into the current layer, and the other two terms are the local gradients:\n",
    "\n",
    "$$\n",
    "\\frac{\\partial y}{\\partial w}=x, \\quad \\frac{\\partial y}{\\partial b}=1.\n",
    "$$\n",
    "\n",
    "Since $x$ is needed to compute the gradients, we can store (cache) its value during the forward pass. Finally, we need to return a downstream gradient so that more shallow layers can use it as their upstream gradient. The downstream gradient of a layer is simply its upstream gradient multiplied by the local gradient of its ouput with respect to its input:\n",
    "\n",
    "$$\n",
    "\\frac{\\partial \\mathcal{L}}{\\partial x}=\\frac{\\partial \\mathcal{L}}{\\partial y} \\cdot \\frac{\\partial y}{\\partial x}\n",
    "$$\n",
    "\n",
    "**Note.** Be aware of how you multiply the arrays, it might be useful to print the shapes of each array and to think about the desired shape of the output.  "
   ]
  },
  {
   "cell_type": "code",
   "execution_count": 4,
   "metadata": {},
   "outputs": [],
   "source": [
    "class Linear:\n",
    "    def __init__(self, in_features, out_features):\n",
    "        \"\"\" Randomly initialize the weights and biases.\n",
    "\n",
    "        Args:\n",
    "            in_features: number of input features.\n",
    "            out_features: number of output features.\n",
    "        \"\"\"\n",
    "\n",
    "        self.weight = ...\n",
    "        self.bias = ...\n",
    "\n",
    "        self.cache = None\n",
    "        # For storing the gradients w.r.t. the weight and the bias\n",
    "        self.weight_grad = None\n",
    "        self.bias_grad = None\n",
    "\n",
    "    def forward(self, x):\n",
    "        \"\"\" Perform the forward pass of a linear layer. \n",
    "        Store (cache) the input so it can be used in the backward pass.\n",
    "\n",
    "        Args:\n",
    "            x: input of a linear layer.\n",
    "\n",
    "        Returns: \n",
    "            y: output of a linear layer. \n",
    "        \"\"\"\n",
    "\n",
    "        pass\n",
    "    \n",
    "    def backward(self, dupstream):\n",
    "        \"\"\" Perform the backward pass of a linear layer.  \n",
    "\n",
    "        Args:\n",
    "            dupstream: upstream gradient. \n",
    "\n",
    "        Returns:\n",
    "            dx: downstream gradient.\n",
    "        \"\"\"\n",
    "       \n",
    "        pass"
   ]
  },
  {
   "cell_type": "markdown",
   "metadata": {},
   "source": [
    "**Activation functions**\n",
    "\n",
    "You alo need to implement an activation function suitable for the task at hand.\n",
    "\n",
    "Think about how to perform the backward pass i.e., what is the local gradient and what the downstream gradient should be. Do not forget to take the upstream gradient into account."
   ]
  },
  {
   "cell_type": "code",
   "execution_count": 5,
   "metadata": {},
   "outputs": [],
   "source": [
    "class Activation:\n",
    "    def __init__(self):\n",
    "        self.cache = None\n",
    "    \n",
    "    def forward(self, x):\n",
    "        \"\"\" Perform a forward pass of your activation function.\n",
    "        Store (cache) the output so it can be used in the backward pass.\n",
    "\n",
    "        Args:\n",
    "            x: input to the activation function. \n",
    "\n",
    "        Returns:\n",
    "            y: output of the activation function.\n",
    "        \"\"\"\n",
    "\n",
    "        pass\n",
    "    \n",
    "    def backward(self, dupstream): \n",
    "        \"\"\" Perform a backward pass of the activation function. \n",
    "        Make sure you do not modify the original dupstream.\n",
    "\n",
    "        Args:\n",
    "            dupstream: upstream gradient. \n",
    "\n",
    "        Returns:\n",
    "            dx: downstream gradient.\n",
    "        \"\"\"\n",
    "        \n",
    "        pass"
   ]
  },
  {
   "cell_type": "markdown",
   "metadata": {},
   "source": [
    "**Network** \n",
    "\n",
    "Now that you have implemented a `Linear` layer and an activation function, you can combine them in different ways and have the `Network` class perform forward and backward passes through all layer of the network in the specified order.\n",
    "\n",
    "Additionally, you should make the `Network` class update all the trainable parameters of the network in `optimizer_step`."
   ]
  },
  {
   "cell_type": "code",
   "execution_count": 6,
   "metadata": {},
   "outputs": [],
   "source": [
    "class Network:\n",
    "    def __init__(self, layers):\n",
    "        self.layers = layers\n",
    "\n",
    "    def forward(self, x):\n",
    "        \"\"\" Perform a forward pass over the entire network.\n",
    "\n",
    "        Args:\n",
    "            x: input data. \n",
    "\n",
    "        Returns:\n",
    "            y: predictions.\n",
    "        \"\"\"\n",
    "        \n",
    "        pass\n",
    "    \n",
    "    def backward(self, dupstream):\n",
    "        \"\"\" Perform a backward pass over the entire network.\n",
    "\n",
    "        Args:\n",
    "            dupstream: upstream gradient. \n",
    "\n",
    "        Returns:\n",
    "            dx: downstream gradient.\n",
    "        \"\"\"\n",
    "        \n",
    "        pass\n",
    "    \n",
    "    def optimizer_step(self, lr):\n",
    "        \"\"\" Update the weight and bias parameters of each layer.\n",
    "\n",
    "        Args:\n",
    "            lr: learning rate.\n",
    "        \"\"\"\n",
    "        \n",
    "        pass"
   ]
  },
  {
   "cell_type": "markdown",
   "metadata": {},
   "source": [
    "**Loss function**\n",
    "\n",
    "You also need to implement a loss function that will measure how well your neural network performs at the task."
   ]
  },
  {
   "cell_type": "code",
   "execution_count": 7,
   "metadata": {},
   "outputs": [],
   "source": [
    "def Loss(y_true, y_pred):\n",
    "    \"\"\" Computes the value of the loss function and its gradient.  \n",
    "\n",
    "    Args:\n",
    "        y_true: ground truth labels.\n",
    "        y_pred: predicted labels.\n",
    "\n",
    "    Returns:\n",
    "        loss: value of the loss. \n",
    "        grad: gradient of loss with respect to the predictions. \n",
    "    \"\"\"\n",
    "\n",
    "    pass"
   ]
  },
  {
   "cell_type": "markdown",
   "metadata": {},
   "source": [
    "**Training loop**\n",
    "\n",
    "Finally, define a training loop in which for each optimizer step you:\n",
    "\n",
    "1. Obtain the predictions by performing a forward pass of the network;\n",
    "\n",
    "2. Compute the loss and its gradient by comparing the predictions with the ground truth according to the selected criterion;\n",
    "\n",
    "3. Perform a backward pass of the network;\n",
    "\n",
    "4. Update all parameters of the network i.e, take an optimizer step."
   ]
  },
  {
   "cell_type": "code",
   "execution_count": null,
   "metadata": {},
   "outputs": [],
   "source": [
    "def train(net, inputs, labels, criterion, lr):\n",
    "    \"\"\"Trains the neural network.\n",
    "\n",
    "    Args:\n",
    "        net: network or model. \n",
    "        inputs: input data.\n",
    "        labels: labels. \n",
    "        criterion: loss function.\n",
    "        lr: learning rate.\n",
    "\n",
    "    Returns:\n",
    "        losses: a list containing the loss at every optimizer step. \n",
    "        accuracies: a list containing the accuracy at every optimizer step. \n",
    "    \"\"\"\n",
    "    \n",
    "    pass"
   ]
  },
  {
   "cell_type": "markdown",
   "metadata": {},
   "source": [
    "#### Question 7"
   ]
  },
  {
   "cell_type": "code",
   "execution_count": null,
   "metadata": {},
   "outputs": [],
   "source": []
  },
  {
   "cell_type": "markdown",
   "metadata": {},
   "source": [
    "<div style=\"background-color:#f1be3e\">\n",
    "\n",
    "_Put your code blocks above (if any) and write your answer here._"
   ]
  },
  {
   "cell_type": "markdown",
   "metadata": {},
   "source": [
    "#### Question 8"
   ]
  },
  {
   "cell_type": "code",
   "execution_count": null,
   "metadata": {},
   "outputs": [],
   "source": []
  },
  {
   "cell_type": "markdown",
   "metadata": {},
   "source": [
    "<div style=\"background-color:#f1be3e\">\n",
    "\n",
    "_Put your code blocks above (if any) and write your answer here._"
   ]
  },
  {
   "cell_type": "markdown",
   "metadata": {},
   "source": [
    "#### Question 9"
   ]
  },
  {
   "cell_type": "code",
   "execution_count": null,
   "metadata": {},
   "outputs": [],
   "source": []
  },
  {
   "cell_type": "markdown",
   "metadata": {},
   "source": [
    "<div style=\"background-color:#f1be3e\">\n",
    "\n",
    "_Put your code blocks above (if any) and write your answer here._"
   ]
  },
  {
   "cell_type": "markdown",
   "metadata": {},
   "source": [
    "#### Question 10"
   ]
  },
  {
   "cell_type": "code",
   "execution_count": null,
   "metadata": {},
   "outputs": [],
   "source": []
  },
  {
   "cell_type": "markdown",
   "metadata": {},
   "source": [
    "<div style=\"background-color:#f1be3e\">\n",
    "\n",
    "_Put your code blocks above (if any) and write your answer here._"
   ]
  },
  {
   "cell_type": "markdown",
   "metadata": {},
   "source": [
    "### 1.4 Optimization"
   ]
  },
  {
   "cell_type": "markdown",
   "metadata": {},
   "source": [
    "#### Question 11"
   ]
  },
  {
   "cell_type": "code",
   "execution_count": null,
   "metadata": {},
   "outputs": [],
   "source": []
  },
  {
   "cell_type": "markdown",
   "metadata": {},
   "source": [
    "<div style=\"background-color:#f1be3e\">\n",
    "\n",
    "_Put your code blocks above (if any) and write your answer here._"
   ]
  },
  {
   "cell_type": "markdown",
   "metadata": {},
   "source": [
    "#### Question 12"
   ]
  },
  {
   "cell_type": "code",
   "execution_count": null,
   "metadata": {},
   "outputs": [],
   "source": []
  },
  {
   "cell_type": "markdown",
   "metadata": {},
   "source": [
    "<div style=\"background-color:#f1be3e\">\n",
    "\n",
    "_Put your code blocks above (if any) and write your answer here._"
   ]
  },
  {
   "cell_type": "markdown",
   "metadata": {},
   "source": [
    "### 1.5 Evaluation"
   ]
  },
  {
   "cell_type": "markdown",
   "metadata": {},
   "source": [
    "#### Question 13"
   ]
  },
  {
   "cell_type": "code",
   "execution_count": null,
   "metadata": {},
   "outputs": [],
   "source": []
  },
  {
   "cell_type": "markdown",
   "metadata": {},
   "source": [
    "<div style=\"background-color:#f1be3e\">\n",
    "\n",
    "_Put your code blocks above (if any) and write your answer here._"
   ]
  },
  {
   "cell_type": "markdown",
   "metadata": {},
   "source": [
    "#### Question 14"
   ]
  },
  {
   "cell_type": "code",
   "execution_count": null,
   "metadata": {},
   "outputs": [],
   "source": []
  },
  {
   "cell_type": "markdown",
   "metadata": {},
   "source": [
    "<div style=\"background-color:#f1be3e\">\n",
    "\n",
    "_Put your code blocks above (if any) and write your answer here._"
   ]
  },
  {
   "cell_type": "markdown",
   "metadata": {},
   "source": [
    "#### Question 15"
   ]
  },
  {
   "cell_type": "code",
   "execution_count": null,
   "metadata": {},
   "outputs": [],
   "source": []
  },
  {
   "cell_type": "markdown",
   "metadata": {},
   "source": [
    "<div style=\"background-color:#f1be3e\">\n",
    "\n",
    "_Put your code blocks above (if any) and write your answer here._"
   ]
  },
  {
   "cell_type": "markdown",
   "metadata": {},
   "source": [
    "### 1.6 Scikit-learn"
   ]
  },
  {
   "cell_type": "markdown",
   "metadata": {},
   "source": [
    "#### Question 16"
   ]
  },
  {
   "cell_type": "code",
   "execution_count": null,
   "metadata": {},
   "outputs": [],
   "source": []
  },
  {
   "cell_type": "markdown",
   "metadata": {},
   "source": [
    "<div style=\"background-color:#f1be3e\">\n",
    "\n",
    "_Put your code blocks above (if any) and write your answer here._"
   ]
  },
  {
   "cell_type": "markdown",
   "metadata": {},
   "source": [
    "#### Question 17"
   ]
  },
  {
   "cell_type": "code",
   "execution_count": null,
   "metadata": {},
   "outputs": [],
   "source": []
  },
  {
   "cell_type": "markdown",
   "metadata": {},
   "source": [
    "<div style=\"background-color:#f1be3e\">\n",
    "\n",
    "_Put your code blocks above (if any) and write your answer here._"
   ]
  },
  {
   "cell_type": "markdown",
   "metadata": {},
   "source": [
    "### 1.7 Reflection"
   ]
  },
  {
   "cell_type": "markdown",
   "metadata": {},
   "source": [
    "#### Question 18"
   ]
  },
  {
   "cell_type": "markdown",
   "metadata": {},
   "source": [
    "<div style=\"background-color:#f1be3e\">\n",
    "\n",
    "_Write your answer here._"
   ]
  },
  {
   "cell_type": "markdown",
   "metadata": {},
   "source": [
    "#### Question 19"
   ]
  },
  {
   "cell_type": "markdown",
   "metadata": {},
   "source": [
    "<div style=\"background-color:#f1be3e\">\n",
    "\n",
    "_Write your answer here._"
   ]
  },
  {
   "cell_type": "markdown",
   "metadata": {},
   "source": [
    "### 1.8 Pen and paper"
   ]
  },
  {
   "cell_type": "markdown",
   "metadata": {},
   "source": [
    "#### Question 20"
   ]
  },
  {
   "cell_type": "markdown",
   "metadata": {},
   "source": [
    "<div style=\"background-color:#f1be3e\">\n",
    "\n",
    "_Write your answer here. You can also choose to simply include a photo of your solution._"
   ]
  },
  {
   "cell_type": "markdown",
   "metadata": {},
   "source": [
    "#### Question 21"
   ]
  },
  {
   "cell_type": "markdown",
   "metadata": {},
   "source": [
    "<div style=\"background-color:#f1be3e\">\n",
    "\n",
    "_Write your answer here. You can also choose to simply include a photo of your solution._"
   ]
  },
  {
   "cell_type": "markdown",
   "metadata": {},
   "source": [
    "### 1.9 Division of work"
   ]
  },
  {
   "cell_type": "markdown",
   "metadata": {},
   "source": [
    "#### Question 22"
   ]
  },
  {
   "cell_type": "markdown",
   "metadata": {},
   "source": [
    "<div style=\"background-color:#f1be3e\">\n",
    "\n",
    "\n",
    "|          Component          |  Name A   |  Name B   |  Name C   |  Name D   |\n",
    "|-----------------------------|-----------|-----------|-----------|-----------|\n",
    "| Code (design)               |     A     |     B     |     C     |     D     |\n",
    "| Code (implementation)       |     A     |     B     |     C     |     D     |\n",
    "| Code (validation)           |     A     |     B     |     C     |     D     |\n",
    "| Experiments (execution)     |     A     |     B     |     C     |     D     |\n",
    "| Experiments (analysis)      |     A     |     B     |     C     |     D     |\n",
    "| Experiments (visualization) |     A     |     B     |     C     |     D     |\n",
    "| Report (original draft)     |     A     |     B     |     C     |     D     |\n",
    "| Report (reviewing, editing) |     A     |     B     |     C     |     D     |"
   ]
  },
  {
   "cell_type": "markdown",
   "metadata": {},
   "source": [
    "### References"
   ]
  },
  {
   "cell_type": "markdown",
   "metadata": {},
   "source": [
    "<div style=\"background-color:#f1be3e\">\n",
    "\n",
    "**If you made use of any non-course resources, cite them below.**"
   ]
  }
 ],
 "metadata": {
  "kernelspec": {
   "display_name": "Python 3",
   "language": "python",
   "name": "python3"
  },
  "language_info": {
   "codemirror_mode": {
    "name": "ipython",
    "version": 3
   },
   "file_extension": ".py",
   "mimetype": "text/x-python",
   "name": "python",
   "nbconvert_exporter": "python",
   "pygments_lexer": "ipython3",
   "version": "3.9.13"
  }
 },
 "nbformat": 4,
 "nbformat_minor": 2
}
